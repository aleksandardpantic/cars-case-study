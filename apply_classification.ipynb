{
 "cells": [
  {
   "cell_type": "markdown",
   "source": [
    "Load trained pipeline"
   ],
   "metadata": {
    "collapsed": false
   },
   "id": "91932ff273db2cf3"
  },
  {
   "cell_type": "code",
   "execution_count": 1,
   "id": "initial_id",
   "metadata": {
    "collapsed": true,
    "ExecuteTime": {
     "end_time": "2023-08-27T11:22:44.416318800Z",
     "start_time": "2023-08-27T11:22:43.819268200Z"
    }
   },
   "outputs": [],
   "source": [
    "from sklearn.pipeline import Pipeline\n",
    "import pandas as pd\n",
    "import numpy as np\n",
    "import joblib\n",
    "import  warnings\n",
    "warnings.filterwarnings('ignore')\n",
    "\n",
    "prediction_pipeline: Pipeline = joblib.load('pipelines-bin/mtcars/dependent_variable_pipeline')"
   ]
  },
  {
   "cell_type": "markdown",
   "source": [
    "Insert new data "
   ],
   "metadata": {
    "collapsed": false
   },
   "id": "1cebd3d49bb83d43"
  },
  {
   "cell_type": "code",
   "execution_count": 2,
   "outputs": [],
   "source": [
    "car_model = \"Car 1\"\n",
    "miles_per_gallon = 32\n",
    "cylinders = 4\n",
    "displacement = 140\n",
    "horse_power = 120\n",
    "rear_axle_ratio = 5\n",
    "weight = 3 # x100 lb\n",
    "quarter_mile_time = 20.6\n",
    "vs =0\n",
    "gear = 3\n",
    "carburatours = 1\n",
    "\n",
    "newdata1 = np.array([car_model, miles_per_gallon, cylinders,displacement,horse_power,rear_axle_ratio,weight,quarter_mile_time,vs,gear,carburatours])\n"
   ],
   "metadata": {
    "collapsed": false,
    "ExecuteTime": {
     "end_time": "2023-08-27T11:22:44.431939900Z",
     "start_time": "2023-08-27T11:22:44.416318800Z"
    }
   },
   "id": "660ee71444cf83de"
  },
  {
   "cell_type": "code",
   "execution_count": 3,
   "outputs": [],
   "source": [
    "car_model = \"Car 2\"\n",
    "miles_per_gallon = 23\n",
    "cylinders = 5\n",
    "displacement = 300\n",
    "horse_power = 200\n",
    "rear_axle_ratio = 3.2\n",
    "weight = 3.2 # x100 lb\n",
    "quarter_mile_time = 20.6\n",
    "vs = 0\n",
    "gear = 3\n",
    "carburatours = 1\n",
    "\n",
    "newdata2 = np.array([car_model, miles_per_gallon, cylinders,displacement,horse_power,rear_axle_ratio,weight,quarter_mile_time,vs,gear,carburatours])"
   ],
   "metadata": {
    "collapsed": false,
    "ExecuteTime": {
     "end_time": "2023-08-27T11:22:44.455394700Z",
     "start_time": "2023-08-27T11:22:44.431939900Z"
    }
   },
   "id": "91ff154a8c72cd2"
  },
  {
   "cell_type": "code",
   "execution_count": 4,
   "outputs": [],
   "source": [
    "probabilities = prediction_pipeline.predict_proba([newdata1,newdata2])"
   ],
   "metadata": {
    "collapsed": false,
    "ExecuteTime": {
     "end_time": "2023-08-27T11:22:44.476012900Z",
     "start_time": "2023-08-27T11:22:44.447561200Z"
    }
   },
   "id": "61471a4f82a46aa6"
  },
  {
   "cell_type": "markdown",
   "source": [
    "`prediction_pipeline.predict_proba` applies transformation and returns predicted probabilites for class 0 (Automatic) and 1 (Manual)"
   ],
   "metadata": {
    "collapsed": false
   },
   "id": "fa562bf6fb709d15"
  },
  {
   "cell_type": "code",
   "execution_count": 5,
   "outputs": [
    {
     "data": {
      "text/plain": "   Prob Automatic  Prob Manual\n0        0.142957     0.857043\n1        0.742215     0.257785",
      "text/html": "<div>\n<style scoped>\n    .dataframe tbody tr th:only-of-type {\n        vertical-align: middle;\n    }\n\n    .dataframe tbody tr th {\n        vertical-align: top;\n    }\n\n    .dataframe thead th {\n        text-align: right;\n    }\n</style>\n<table border=\"1\" class=\"dataframe\">\n  <thead>\n    <tr style=\"text-align: right;\">\n      <th></th>\n      <th>Prob Automatic</th>\n      <th>Prob Manual</th>\n    </tr>\n  </thead>\n  <tbody>\n    <tr>\n      <th>0</th>\n      <td>0.142957</td>\n      <td>0.857043</td>\n    </tr>\n    <tr>\n      <th>1</th>\n      <td>0.742215</td>\n      <td>0.257785</td>\n    </tr>\n  </tbody>\n</table>\n</div>"
     },
     "execution_count": 5,
     "metadata": {},
     "output_type": "execute_result"
    }
   ],
   "source": [
    "probabilities = pd.DataFrame(probabilities,columns=['Prob Automatic','Prob Manual'])\n",
    "probabilities"
   ],
   "metadata": {
    "collapsed": false,
    "ExecuteTime": {
     "end_time": "2023-08-27T11:22:44.507255100Z",
     "start_time": "2023-08-27T11:22:44.475057400Z"
    }
   },
   "id": "68543f1581415bbe"
  },
  {
   "cell_type": "markdown",
   "source": [
    "How 'certain' the model is. First element is probability that the class is Automatic, and Second element is probability that the class is Manual"
   ],
   "metadata": {
    "collapsed": false
   },
   "id": "700a9227fa2de35d"
  },
  {
   "cell_type": "markdown",
   "source": [
    "Here, model is 14% certain the car is automatic, and 85% certain it is manual"
   ],
   "metadata": {
    "collapsed": false
   },
   "id": "d2137491a16ac093"
  },
  {
   "cell_type": "code",
   "execution_count": 6,
   "outputs": [],
   "source": [
    "def interpret(probabilities: pd.DataFrame, threshold = 0.5):\n",
    "    results = []\n",
    "    for i in range(len(probabilities)):\n",
    "        if probabilities.loc[i,'Prob Manual'] > threshold:\n",
    "            results.append('Manual')\n",
    "        else:\n",
    "            results.append(\"Automatic\")\n",
    "    return results"
   ],
   "metadata": {
    "collapsed": false,
    "ExecuteTime": {
     "end_time": "2023-08-27T11:22:44.538498Z",
     "start_time": "2023-08-27T11:22:44.507255100Z"
    }
   },
   "id": "83a6e17fa888f842"
  },
  {
   "cell_type": "markdown",
   "source": [
    "Depending on business problem, threshold is adjusted"
   ],
   "metadata": {
    "collapsed": false
   },
   "id": "11e646d1d39fc1da"
  },
  {
   "cell_type": "markdown",
   "source": [
    "If we want to avoid labeling manual vehicle as 'automatic', threshold should be increased"
   ],
   "metadata": {
    "collapsed": false
   },
   "id": "50ad6746ff48611"
  },
  {
   "cell_type": "code",
   "execution_count": 7,
   "outputs": [
    {
     "data": {
      "text/plain": "['Manual', 'Automatic']"
     },
     "execution_count": 7,
     "metadata": {},
     "output_type": "execute_result"
    }
   ],
   "source": [
    "interpret(probabilities)"
   ],
   "metadata": {
    "collapsed": false,
    "ExecuteTime": {
     "end_time": "2023-08-27T11:22:44.554119200Z",
     "start_time": "2023-08-27T11:22:44.522876600Z"
    }
   },
   "id": "9f7700c0882368e9"
  }
 ],
 "metadata": {
  "kernelspec": {
   "display_name": "Python 3",
   "language": "python",
   "name": "python3"
  },
  "language_info": {
   "codemirror_mode": {
    "name": "ipython",
    "version": 2
   },
   "file_extension": ".py",
   "mimetype": "text/x-python",
   "name": "python",
   "nbconvert_exporter": "python",
   "pygments_lexer": "ipython2",
   "version": "2.7.6"
  }
 },
 "nbformat": 4,
 "nbformat_minor": 5
}
