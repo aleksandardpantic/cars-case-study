{
 "cells": [
  {
   "cell_type": "markdown",
   "source": [
    "Load trained pipeline"
   ],
   "metadata": {
    "collapsed": false
   },
   "id": "91932ff273db2cf3"
  },
  {
   "cell_type": "code",
   "execution_count": 18,
   "id": "initial_id",
   "metadata": {
    "collapsed": true,
    "ExecuteTime": {
     "end_time": "2023-08-25T19:01:38.402429400Z",
     "start_time": "2023-08-25T19:01:38.354503600Z"
    }
   },
   "outputs": [],
   "source": [
    "from sklearn.pipeline import Pipeline\n",
    "import pandas as pd\n",
    "import numpy as np\n",
    "import joblib\n",
    "\n",
    "prediction_pipeline: Pipeline = joblib.load('pipelines-bin/mtcars/dependent_variable_pipeline')"
   ]
  },
  {
   "cell_type": "markdown",
   "source": [
    "Insert new data (actual data of Seat Alteca which is automatic)"
   ],
   "metadata": {
    "collapsed": false
   },
   "id": "1cebd3d49bb83d43"
  },
  {
   "cell_type": "code",
   "execution_count": 19,
   "outputs": [],
   "source": [
    "car_model = \"Seat Alteca 2016\"\n",
    "miles_per_gallon = 50\n",
    "cylinders = 4\n",
    "displacement = 999\n",
    "horse_power = 115\n",
    "rear_axle_ratio = 3.3\n",
    "weight = 3031\n",
    "quarter_mile_time = 16.6\n",
    "vs =0\n",
    "gear = 6\n",
    "carburatours = 0\n",
    "\n",
    "newdata = [car_model, miles_per_gallon, cylinders,displacement,horse_power,rear_axle_ratio,weight,quarter_mile_time,vs,gear,carburatours]\n",
    "\n",
    "\n",
    "interpret = {0:'Automatic', 1: 'Manual'}"
   ],
   "metadata": {
    "collapsed": false,
    "ExecuteTime": {
     "end_time": "2023-08-25T19:01:38.402429400Z",
     "start_time": "2023-08-25T19:01:38.371283500Z"
    }
   },
   "id": "660ee71444cf83de"
  },
  {
   "cell_type": "code",
   "execution_count": 20,
   "outputs": [
    {
     "name": "stderr",
     "output_type": "stream",
     "text": [
      "C:\\Users\\alpan\\anaconda3\\envs\\DS\\lib\\site-packages\\sklearn\\base.py:464: UserWarning: X does not have valid feature names, but StandardScaler was fitted with feature names\n",
      "  warnings.warn(\n",
      "C:\\Users\\alpan\\anaconda3\\envs\\DS\\lib\\site-packages\\sklearn\\base.py:464: UserWarning: X does not have valid feature names, but MinMaxScaler was fitted with feature names\n",
      "  warnings.warn(\n"
     ]
    },
    {
     "data": {
      "text/plain": "array([0], dtype=int64)"
     },
     "execution_count": 20,
     "metadata": {},
     "output_type": "execute_result"
    }
   ],
   "source": [
    "prediction = prediction_pipeline.predict([newdata])\n",
    "prediction"
   ],
   "metadata": {
    "collapsed": false,
    "ExecuteTime": {
     "end_time": "2023-08-25T19:01:38.402429400Z",
     "start_time": "2023-08-25T19:01:38.386833100Z"
    }
   },
   "id": "2f22ceebc483fd04"
  },
  {
   "cell_type": "code",
   "execution_count": 21,
   "outputs": [
    {
     "data": {
      "text/plain": "0"
     },
     "execution_count": 21,
     "metadata": {},
     "output_type": "execute_result"
    }
   ],
   "source": [
    "prediction = prediction[0]\n",
    "prediction"
   ],
   "metadata": {
    "collapsed": false,
    "ExecuteTime": {
     "end_time": "2023-08-25T19:01:38.464942100Z",
     "start_time": "2023-08-25T19:01:38.418081700Z"
    }
   },
   "id": "dbf8b41b2eb6883f"
  },
  {
   "cell_type": "code",
   "execution_count": 22,
   "outputs": [
    {
     "data": {
      "text/plain": "'Automatic'"
     },
     "execution_count": 22,
     "metadata": {},
     "output_type": "execute_result"
    }
   ],
   "source": [
    "interpret[prediction]"
   ],
   "metadata": {
    "collapsed": false,
    "ExecuteTime": {
     "end_time": "2023-08-25T19:01:38.464942100Z",
     "start_time": "2023-08-25T19:01:38.449323100Z"
    }
   },
   "id": "3435cc8f4bc15c9d"
  }
 ],
 "metadata": {
  "kernelspec": {
   "display_name": "Python 3",
   "language": "python",
   "name": "python3"
  },
  "language_info": {
   "codemirror_mode": {
    "name": "ipython",
    "version": 2
   },
   "file_extension": ".py",
   "mimetype": "text/x-python",
   "name": "python",
   "nbconvert_exporter": "python",
   "pygments_lexer": "ipython2",
   "version": "2.7.6"
  }
 },
 "nbformat": 4,
 "nbformat_minor": 5
}
