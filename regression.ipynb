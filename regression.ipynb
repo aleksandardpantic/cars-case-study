{
 "cells": [
  {
   "cell_type": "code",
   "execution_count": 1,
   "id": "initial_id",
   "metadata": {
    "collapsed": true,
    "ExecuteTime": {
     "end_time": "2023-08-26T13:32:19.331708500Z",
     "start_time": "2023-08-26T13:32:19.316092100Z"
    }
   },
   "outputs": [],
   "source": [
    "import pandas as pd\n",
    "import numpy as np\n",
    "\n",
    "cars = pd.read_csv('cars.csv')"
   ]
  },
  {
   "cell_type": "markdown",
   "source": [
    "Split independent variable (X) and dependent variable (y)"
   ],
   "metadata": {
    "collapsed": false
   },
   "id": "c4e8281270ff4cc9"
  },
  {
   "cell_type": "code",
   "execution_count": 2,
   "outputs": [],
   "source": [
    "X = cars['speed'].values.reshape(-1,1)\n",
    "y = cars['dist'].values.reshape(-1,1)"
   ],
   "metadata": {
    "collapsed": false,
    "ExecuteTime": {
     "end_time": "2023-08-26T13:32:19.347334800Z",
     "start_time": "2023-08-26T13:32:19.331708500Z"
    }
   },
   "id": "d62bf5ef52013ae"
  },
  {
   "cell_type": "markdown",
   "source": [
    "Create regressor instance"
   ],
   "metadata": {
    "collapsed": false
   },
   "id": "82e8cd9ed167660e"
  },
  {
   "cell_type": "code",
   "execution_count": 3,
   "outputs": [],
   "source": [
    "from sklearn.linear_model import LinearRegression\n",
    "\n",
    "regressor = LinearRegression()"
   ],
   "metadata": {
    "collapsed": false,
    "ExecuteTime": {
     "end_time": "2023-08-26T13:32:19.659970400Z",
     "start_time": "2023-08-26T13:32:19.347334800Z"
    }
   },
   "id": "ecde6fa40fc06e64"
  },
  {
   "cell_type": "code",
   "execution_count": 4,
   "outputs": [],
   "source": [
    "from sklearn.model_selection import KFold\n",
    "from sklearn.metrics import mean_squared_error, r2_score\n",
    "\n",
    "MSEs = []\n",
    "r2s = []\n",
    "\n",
    "folds = 3\n",
    "kfold = KFold(n_splits=folds, random_state=100, shuffle=True)\n",
    "for train, test in kfold.split(X, y):\n",
    "    X_train, X_test, y_train, y_test = X[train], X[test], y[train], y[test] # split into training and test\n",
    "    regressor.fit(X_train,y_train) # fit training data to model\n",
    "    y_pred = regressor.predict(X_test) # make predictions\n",
    "    MSEs.append(mean_squared_error(y_test,y_pred)) # append metrics for current fold\n",
    "    r2s.append(r2_score(y_test,y_pred))"
   ],
   "metadata": {
    "collapsed": false,
    "ExecuteTime": {
     "end_time": "2023-08-26T13:32:19.691241700Z",
     "start_time": "2023-08-26T13:32:19.659970400Z"
    }
   },
   "id": "a1246a8bec5626e"
  },
  {
   "cell_type": "markdown",
   "source": [],
   "metadata": {
    "collapsed": false
   },
   "id": "bc4c19539aac3799"
  },
  {
   "cell_type": "markdown",
   "source": [
    "Calculate metrics across folds"
   ],
   "metadata": {
    "collapsed": false
   },
   "id": "74f26c1b8c878aa4"
  },
  {
   "cell_type": "code",
   "execution_count": 5,
   "outputs": [
    {
     "name": "stdout",
     "output_type": "stream",
     "text": [
      "Across 3 folds:\n",
      "\n",
      "Average Mean Squared Error: 238.87631500008487\n",
      "Standard deviation of Mean Squared Error: 55.12940144682395\n",
      "\n",
      "Average R-squared: 0.6238196315855414\n",
      "Standard deviation of R-squared: 0.07333027853801395\n"
     ]
    }
   ],
   "source": [
    "mean_r2 = np.mean(r2s)\n",
    "std_r2 = np.std(r2s)\n",
    "\n",
    "mean_MSE = np.mean(MSEs)\n",
    "std_MSE = np.std(MSEs)\n",
    "\n",
    "print(\"Across {} folds:\\n\\nAverage Mean Squared Error: {}\\nStandard deviation of Mean Squared Error: {}\\n\\nAverage R-squared: {}\\nStandard deviation of R-squared: {}\".format(folds,mean_MSE,std_MSE,mean_r2,std_r2))"
   ],
   "metadata": {
    "collapsed": false,
    "ExecuteTime": {
     "end_time": "2023-08-26T13:32:19.706863600Z",
     "start_time": "2023-08-26T13:32:19.691241700Z"
    }
   },
   "id": "f5c092e86381be21"
  },
  {
   "cell_type": "markdown",
   "source": [],
   "metadata": {
    "collapsed": false
   },
   "id": "fd6e905052b03844"
  },
  {
   "cell_type": "markdown",
   "source": [
    "## Plot metrics across folds"
   ],
   "metadata": {
    "collapsed": false
   },
   "id": "56cc1e21a449cbe9"
  },
  {
   "cell_type": "code",
   "execution_count": 6,
   "outputs": [
    {
     "data": {
      "text/plain": "[Text(0.5, 1.0, 'MSE across folds')]"
     },
     "execution_count": 6,
     "metadata": {},
     "output_type": "execute_result"
    },
    {
     "data": {
      "text/plain": "<Figure size 640x480 with 1 Axes>",
      "image/png": "[encoded data removed]"
     },
     "metadata": {},
     "output_type": "display_data"
    }
   ],
   "source": [
    "import seaborn as sns\n",
    "\n",
    "sns.barplot(x=['fold 1','fold 2','fold 3'],y = MSEs).set(title='MSE across folds')"
   ],
   "metadata": {
    "collapsed": false,
    "ExecuteTime": {
     "end_time": "2023-08-26T13:32:19.925561700Z",
     "start_time": "2023-08-26T13:32:19.706863600Z"
    }
   },
   "id": "ebb48815740abb62"
  },
  {
   "cell_type": "code",
   "execution_count": 7,
   "outputs": [
    {
     "data": {
      "text/plain": "[Text(0.5, 1.0, 'R-squared values across folds')]"
     },
     "execution_count": 7,
     "metadata": {},
     "output_type": "execute_result"
    },
    {
     "data": {
      "text/plain": "<Figure size 640x480 with 1 Axes>",
      "image/png": "[encoded data removed]"
     },
     "metadata": {},
     "output_type": "display_data"
    }
   ],
   "source": [
    "sns.barplot(x=['fold 1','fold 2','fold 3'],y = r2s).set(title='R-squared values across folds')"
   ],
   "metadata": {
    "collapsed": false,
    "ExecuteTime": {
     "end_time": "2023-08-26T13:32:20.144177900Z",
     "start_time": "2023-08-26T13:32:19.925561700Z"
    }
   },
   "id": "72cef7064f0376f5"
  },
  {
   "cell_type": "markdown",
   "source": [],
   "metadata": {
    "collapsed": false
   },
   "id": "8ba1c0944d785b01"
  },
  {
   "cell_type": "markdown",
   "source": [
    "## Refit regressor on whole data for analysis"
   ],
   "metadata": {
    "collapsed": false
   },
   "id": "33fa971dd273128"
  },
  {
   "cell_type": "code",
   "execution_count": 8,
   "outputs": [
    {
     "data": {
      "text/plain": "LinearRegression()",
      "text/html": "<style>#sk-container-id-1 {color: black;}#sk-container-id-1 pre{padding: 0;}#sk-container-id-1 div.sk-toggleable {background-color: white;}#sk-container-id-1 label.sk-toggleable__label {cursor: pointer;display: block;width: 100%;margin-bottom: 0;padding: 0.3em;box-sizing: border-box;text-align: center;}#sk-container-id-1 label.sk-toggleable__label-arrow:before {content: \"▸\";float: left;margin-right: 0.25em;color: #696969;}#sk-container-id-1 label.sk-toggleable__label-arrow:hover:before {color: black;}#sk-container-id-1 div.sk-estimator:hover label.sk-toggleable__label-arrow:before {color: black;}#sk-container-id-1 div.sk-toggleable__content {max-height: 0;max-width: 0;overflow: hidden;text-align: left;background-color: #f0f8ff;}#sk-container-id-1 div.sk-toggleable__content pre {margin: 0.2em;color: black;border-radius: 0.25em;background-color: #f0f8ff;}#sk-container-id-1 input.sk-toggleable__control:checked~div.sk-toggleable__content {max-height: 200px;max-width: 100%;overflow: auto;}#sk-container-id-1 input.sk-toggleable__control:checked~label.sk-toggleable__label-arrow:before {content: \"▾\";}#sk-container-id-1 div.sk-estimator input.sk-toggleable__control:checked~label.sk-toggleable__label {background-color: #d4ebff;}#sk-container-id-1 div.sk-label input.sk-toggleable__control:checked~label.sk-toggleable__label {background-color: #d4ebff;}#sk-container-id-1 input.sk-hidden--visually {border: 0;clip: rect(1px 1px 1px 1px);clip: rect(1px, 1px, 1px, 1px);height: 1px;margin: -1px;overflow: hidden;padding: 0;position: absolute;width: 1px;}#sk-container-id-1 div.sk-estimator {font-family: monospace;background-color: #f0f8ff;border: 1px dotted black;border-radius: 0.25em;box-sizing: border-box;margin-bottom: 0.5em;}#sk-container-id-1 div.sk-estimator:hover {background-color: #d4ebff;}#sk-container-id-1 div.sk-parallel-item::after {content: \"\";width: 100%;border-bottom: 1px solid gray;flex-grow: 1;}#sk-container-id-1 div.sk-label:hover label.sk-toggleable__label {background-color: #d4ebff;}#sk-container-id-1 div.sk-serial::before {content: \"\";position: absolute;border-left: 1px solid gray;box-sizing: border-box;top: 0;bottom: 0;left: 50%;z-index: 0;}#sk-container-id-1 div.sk-serial {display: flex;flex-direction: column;align-items: center;background-color: white;padding-right: 0.2em;padding-left: 0.2em;position: relative;}#sk-container-id-1 div.sk-item {position: relative;z-index: 1;}#sk-container-id-1 div.sk-parallel {display: flex;align-items: stretch;justify-content: center;background-color: white;position: relative;}#sk-container-id-1 div.sk-item::before, #sk-container-id-1 div.sk-parallel-item::before {content: \"\";position: absolute;border-left: 1px solid gray;box-sizing: border-box;top: 0;bottom: 0;left: 50%;z-index: -1;}#sk-container-id-1 div.sk-parallel-item {display: flex;flex-direction: column;z-index: 1;position: relative;background-color: white;}#sk-container-id-1 div.sk-parallel-item:first-child::after {align-self: flex-end;width: 50%;}#sk-container-id-1 div.sk-parallel-item:last-child::after {align-self: flex-start;width: 50%;}#sk-container-id-1 div.sk-parallel-item:only-child::after {width: 0;}#sk-container-id-1 div.sk-dashed-wrapped {border: 1px dashed gray;margin: 0 0.4em 0.5em 0.4em;box-sizing: border-box;padding-bottom: 0.4em;background-color: white;}#sk-container-id-1 div.sk-label label {font-family: monospace;font-weight: bold;display: inline-block;line-height: 1.2em;}#sk-container-id-1 div.sk-label-container {text-align: center;}#sk-container-id-1 div.sk-container {/* jupyter's `normalize.less` sets `[hidden] { display: none; }` but bootstrap.min.css set `[hidden] { display: none !important; }` so we also need the `!important` here to be able to override the default hidden behavior on the sphinx rendered scikit-learn.org. See: https://github.com/scikit-learn/scikit-learn/issues/21755 */display: inline-block !important;position: relative;}#sk-container-id-1 div.sk-text-repr-fallback {display: none;}</style><div id=\"sk-container-id-1\" class=\"sk-top-container\"><div class=\"sk-text-repr-fallback\"><pre>LinearRegression()</pre><b>In a Jupyter environment, please rerun this cell to show the HTML representation or trust the notebook. <br />On GitHub, the HTML representation is unable to render, please try loading this page with nbviewer.org.</b></div><div class=\"sk-container\" hidden><div class=\"sk-item\"><div class=\"sk-estimator sk-toggleable\"><input class=\"sk-toggleable__control sk-hidden--visually\" id=\"sk-estimator-id-1\" type=\"checkbox\" checked><label for=\"sk-estimator-id-1\" class=\"sk-toggleable__label sk-toggleable__label-arrow\">LinearRegression</label><div class=\"sk-toggleable__content\"><pre>LinearRegression()</pre></div></div></div></div></div>"
     },
     "execution_count": 8,
     "metadata": {},
     "output_type": "execute_result"
    }
   ],
   "source": [
    "regressor.fit(X,y)"
   ],
   "metadata": {
    "collapsed": false,
    "ExecuteTime": {
     "end_time": "2023-08-26T13:32:20.206687100Z",
     "start_time": "2023-08-26T13:32:20.144177900Z"
    }
   },
   "id": "37656b083cf670a7"
  },
  {
   "cell_type": "code",
   "execution_count": 9,
   "outputs": [],
   "source": [
    "intercept = regressor.intercept_[0]\n",
    "speed_coef = regressor.coef_[0][0]\n",
    "model_score = (regressor.score(X,y)*100)"
   ],
   "metadata": {
    "collapsed": false,
    "ExecuteTime": {
     "end_time": "2023-08-26T13:32:20.206687100Z",
     "start_time": "2023-08-26T13:32:20.159827300Z"
    }
   },
   "id": "b6ffdceab483a222"
  },
  {
   "cell_type": "code",
   "execution_count": 10,
   "outputs": [
    {
     "name": "stdout",
     "output_type": "stream",
     "text": [
      "Dependent variable 'speed' coefficient: 3.932\n"
     ]
    }
   ],
   "source": [
    "print(\"Dependent variable \\'speed\\' coefficient: {}\".format(speed_coef.round(3)))"
   ],
   "metadata": {
    "collapsed": false,
    "ExecuteTime": {
     "end_time": "2023-08-26T13:32:20.206687100Z",
     "start_time": "2023-08-26T13:32:20.175452Z"
    }
   },
   "id": "c05cfaf1d741c542"
  },
  {
   "cell_type": "code",
   "execution_count": 11,
   "outputs": [
    {
     "name": "stdout",
     "output_type": "stream",
     "text": [
      "Model intercept: -17.579\n"
     ]
    }
   ],
   "source": [
    "print(\"Model intercept: {}\".format(intercept.round(3)))"
   ],
   "metadata": {
    "collapsed": false,
    "ExecuteTime": {
     "end_time": "2023-08-26T13:32:20.210725600Z",
     "start_time": "2023-08-26T13:32:20.191069700Z"
    }
   },
   "id": "b4716272665d3bf2"
  },
  {
   "cell_type": "code",
   "execution_count": 12,
   "outputs": [
    {
     "name": "stdout",
     "output_type": "stream",
     "text": [
      "Model R-squared score: 65.1%\n"
     ]
    }
   ],
   "source": [
    "print(\"Model R-squared score: {}%\".format(model_score.round(1)))"
   ],
   "metadata": {
    "collapsed": false,
    "ExecuteTime": {
     "end_time": "2023-08-26T13:32:20.228993400Z",
     "start_time": "2023-08-26T13:32:20.211722500Z"
    }
   },
   "id": "e877d3e1ec668b1d"
  },
  {
   "cell_type": "code",
   "execution_count": 13,
   "outputs": [
    {
     "name": "stdout",
     "output_type": "stream",
     "text": [
      "Model formula\n",
      "**************************************************\n",
      "\n",
      "y = -17.579 + 3.932 x\n"
     ]
    }
   ],
   "source": [
    "print(\"Model formula\")\n",
    "print(\"*\"*50)\n",
    "print(\"\\ny = {} + {} x\".format(intercept.round(3),speed_coef.round(3)))"
   ],
   "metadata": {
    "collapsed": false,
    "ExecuteTime": {
     "end_time": "2023-08-26T13:32:20.295574800Z",
     "start_time": "2023-08-26T13:32:20.226002200Z"
    }
   },
   "id": "8cea6f6cc5cba44e"
  },
  {
   "cell_type": "markdown",
   "source": [],
   "metadata": {
    "collapsed": false
   },
   "id": "d55c1ec092d15bf8"
  },
  {
   "cell_type": "markdown",
   "source": [
    "# Plotting regression"
   ],
   "metadata": {
    "collapsed": false
   },
   "id": "235159d854165bb"
  },
  {
   "cell_type": "markdown",
   "source": [
    "Create regresion line"
   ],
   "metadata": {
    "collapsed": false
   },
   "id": "684d1a2a748b7552"
  },
  {
   "cell_type": "code",
   "execution_count": 14,
   "outputs": [],
   "source": [
    "regr_x = np.array([0,30]) # range for plot\n",
    "regr_y = regr_x*speed_coef + intercept # values"
   ],
   "metadata": {
    "collapsed": false,
    "ExecuteTime": {
     "end_time": "2023-08-26T13:32:20.295574800Z",
     "start_time": "2023-08-26T13:32:20.233089700Z"
    }
   },
   "id": "8d2e3dfab50b52b4"
  },
  {
   "cell_type": "markdown",
   "source": [
    "regr_x and reg_y variables give 2 points from which the line is plotted:"
   ],
   "metadata": {
    "collapsed": false
   },
   "id": "e0e3d44edda9c6b2"
  },
  {
   "cell_type": "markdown",
   "source": [
    "[0,-17.579] and [30,100.393]"
   ],
   "metadata": {
    "collapsed": false
   },
   "id": "b6f10daf11818200"
  },
  {
   "cell_type": "markdown",
   "source": [
    "Scatter X and y datapoints and plot them all together"
   ],
   "metadata": {
    "collapsed": false
   },
   "id": "800275ccdfa5ad84"
  },
  {
   "cell_type": "code",
   "execution_count": 15,
   "outputs": [
    {
     "data": {
      "text/plain": "<Figure size 640x480 with 1 Axes>",
      "image/png": "[encoded data removed]"
     },
     "metadata": {},
     "output_type": "display_data"
    }
   ],
   "source": [
    "import matplotlib.pyplot as plt\n",
    "\n",
    "\n",
    "plt.scatter(data=cars, x='speed',y='dist', s=20, c='red')\n",
    "plt.axhline(color='black')\n",
    "plt.axvline(color='black')\n",
    "plt.axhline(np.mean(cars['dist']),color = 'purple', alpha=0.2)\n",
    "plt.plot(regr_x,regr_y, color='green',  linestyle = 'dashed', label='regression line')\n",
    "plt.xlabel('Speed')\n",
    "plt.ylabel('Distance')\n",
    "plt.title('Linear regression')\n",
    "plt.savefig('Documents/plots/regression.png')"
   ],
   "metadata": {
    "collapsed": false,
    "ExecuteTime": {
     "end_time": "2023-08-26T13:32:20.613516100Z",
     "start_time": "2023-08-26T13:32:20.248711700Z"
    }
   },
   "id": "332281adabfd0a64"
  },
  {
   "cell_type": "code",
   "execution_count": 16,
   "outputs": [],
   "source": [
    "import statsmodels.api as sm\n",
    "\n",
    "X = sm.add_constant(X)\n",
    "regressor = sm.OLS(y,X).fit()"
   ],
   "metadata": {
    "collapsed": false,
    "ExecuteTime": {
     "end_time": "2023-08-26T13:32:20.965742100Z",
     "start_time": "2023-08-26T13:32:20.613516100Z"
    }
   },
   "id": "459e0b956ef82175"
  },
  {
   "cell_type": "markdown",
   "source": [],
   "metadata": {
    "collapsed": false
   },
   "id": "b68463e03708b646"
  },
  {
   "cell_type": "markdown",
   "source": [
    "Method: Least Squares; Model fits line so that it minimizes Mean Squared Error of Residuals"
   ],
   "metadata": {
    "collapsed": false
   },
   "id": "11f73cfc58844794"
  },
  {
   "cell_type": "markdown",
   "source": [
    "RESIDUALS = Distance between real and fitted value, ideally 0"
   ],
   "metadata": {
    "collapsed": false
   },
   "id": "aeefaaa3d4bca942"
  },
  {
   "cell_type": "code",
   "execution_count": 17,
   "outputs": [
    {
     "data": {
      "text/plain": "    residual\n0   3.849460\n1  11.849460\n2  -5.947766\n3  12.052234\n4   2.119825",
      "text/html": "<div>\n<style scoped>\n    .dataframe tbody tr th:only-of-type {\n        vertical-align: middle;\n    }\n\n    .dataframe tbody tr th {\n        vertical-align: top;\n    }\n\n    .dataframe thead th {\n        text-align: right;\n    }\n</style>\n<table border=\"1\" class=\"dataframe\">\n  <thead>\n    <tr style=\"text-align: right;\">\n      <th></th>\n      <th>residual</th>\n    </tr>\n  </thead>\n  <tbody>\n    <tr>\n      <th>0</th>\n      <td>3.849460</td>\n    </tr>\n    <tr>\n      <th>1</th>\n      <td>11.849460</td>\n    </tr>\n    <tr>\n      <th>2</th>\n      <td>-5.947766</td>\n    </tr>\n    <tr>\n      <th>3</th>\n      <td>12.052234</td>\n    </tr>\n    <tr>\n      <th>4</th>\n      <td>2.119825</td>\n    </tr>\n  </tbody>\n</table>\n</div>"
     },
     "execution_count": 17,
     "metadata": {},
     "output_type": "execute_result"
    }
   ],
   "source": [
    "residuals = pd.DataFrame(regressor.resid,columns=['residual'])\n",
    "residuals.head()"
   ],
   "metadata": {
    "collapsed": false,
    "ExecuteTime": {
     "end_time": "2023-08-26T13:32:20.981364300Z",
     "start_time": "2023-08-26T13:32:20.965742100Z"
    }
   },
   "id": "cd08d706df76c0b8"
  },
  {
   "cell_type": "markdown",
   "source": [
    "Difference between real and fitted value for first point is 3.84, for second point 11.84 etc."
   ],
   "metadata": {
    "collapsed": false
   },
   "id": "641cf9298f9f8f25"
  },
  {
   "cell_type": "code",
   "execution_count": 18,
   "outputs": [
    {
     "data": {
      "text/plain": "<Axes: >"
     },
     "execution_count": 18,
     "metadata": {},
     "output_type": "execute_result"
    },
    {
     "data": {
      "text/plain": "<Figure size 640x480 with 1 Axes>",
      "image/png": "[encoded data removed]"
     },
     "metadata": {},
     "output_type": "display_data"
    }
   ],
   "source": [
    "residuals.plot()"
   ],
   "metadata": {
    "collapsed": false,
    "ExecuteTime": {
     "end_time": "2023-08-26T13:32:21.252165900Z",
     "start_time": "2023-08-26T13:32:20.981364300Z"
    }
   },
   "id": "e71e75245c2c4d8f"
  },
  {
   "cell_type": "markdown",
   "source": [
    "Residual values for each point"
   ],
   "metadata": {
    "collapsed": false
   },
   "id": "71a1624874214625"
  },
  {
   "cell_type": "code",
   "execution_count": 19,
   "outputs": [
    {
     "data": {
      "text/plain": "           residual\ncount  5.000000e+01\nmean   7.673862e-15\nstd    1.522184e+01\nmin   -2.906908e+01\n25%   -9.525321e+00\n50%   -2.271854e+00\n75%    9.214715e+00\nmax    4.320128e+01",
      "text/html": "<div>\n<style scoped>\n    .dataframe tbody tr th:only-of-type {\n        vertical-align: middle;\n    }\n\n    .dataframe tbody tr th {\n        vertical-align: top;\n    }\n\n    .dataframe thead th {\n        text-align: right;\n    }\n</style>\n<table border=\"1\" class=\"dataframe\">\n  <thead>\n    <tr style=\"text-align: right;\">\n      <th></th>\n      <th>residual</th>\n    </tr>\n  </thead>\n  <tbody>\n    <tr>\n      <th>count</th>\n      <td>5.000000e+01</td>\n    </tr>\n    <tr>\n      <th>mean</th>\n      <td>7.673862e-15</td>\n    </tr>\n    <tr>\n      <th>std</th>\n      <td>1.522184e+01</td>\n    </tr>\n    <tr>\n      <th>min</th>\n      <td>-2.906908e+01</td>\n    </tr>\n    <tr>\n      <th>25%</th>\n      <td>-9.525321e+00</td>\n    </tr>\n    <tr>\n      <th>50%</th>\n      <td>-2.271854e+00</td>\n    </tr>\n    <tr>\n      <th>75%</th>\n      <td>9.214715e+00</td>\n    </tr>\n    <tr>\n      <th>max</th>\n      <td>4.320128e+01</td>\n    </tr>\n  </tbody>\n</table>\n</div>"
     },
     "execution_count": 19,
     "metadata": {},
     "output_type": "execute_result"
    }
   ],
   "source": [
    "residuals.describe()"
   ],
   "metadata": {
    "collapsed": false,
    "ExecuteTime": {
     "end_time": "2023-08-26T13:32:21.267789Z",
     "start_time": "2023-08-26T13:32:21.252165900Z"
    }
   },
   "id": "e9e586a91e06a6fb"
  },
  {
   "cell_type": "markdown",
   "source": [
    "High variance, residual distribution graph is needed"
   ],
   "metadata": {
    "collapsed": false
   },
   "id": "ccc484b413ec1021"
  },
  {
   "cell_type": "code",
   "execution_count": 20,
   "outputs": [
    {
     "data": {
      "text/plain": "<Figure size 640x480 with 1 Axes>",
      "image/png": "[encoded data removed]"
     },
     "metadata": {},
     "output_type": "display_data"
    }
   ],
   "source": [
    "sns.kdeplot(x=residuals['residual'], color='lightgreen', fill=True)\n",
    "plt.axvline(color='black', linestyle='dashed')\n",
    "plt.title('Residual Distribution')\n",
    "plt.savefig('Documents/plots/residual_dist.png')"
   ],
   "metadata": {
    "collapsed": false,
    "ExecuteTime": {
     "end_time": "2023-08-26T13:32:21.604763500Z",
     "start_time": "2023-08-26T13:32:21.283407Z"
    }
   },
   "id": "98d47bd3f51da21a"
  },
  {
   "cell_type": "markdown",
   "source": [
    "Residual distribution should be normal and centered around 0"
   ],
   "metadata": {
    "collapsed": false
   },
   "id": "236d0af70af03fc1"
  },
  {
   "cell_type": "markdown",
   "source": [
    " It implies that the model captures the main patterns and sources of variation in the data"
   ],
   "metadata": {
    "collapsed": false
   },
   "id": "6d9668ff5462f76f"
  },
  {
   "cell_type": "code",
   "execution_count": 21,
   "outputs": [
    {
     "name": "stdout",
     "output_type": "stream",
     "text": [
      "{'skewness': 0.8850519391703304, 'kurtosis': 0.8929436722256208}\n"
     ]
    }
   ],
   "source": [
    "from scipy.stats import skew, kurtosis\n",
    "\n",
    "print({'skewness': skew(residuals['residual']), 'kurtosis': kurtosis(residuals['residual'])})"
   ],
   "metadata": {
    "collapsed": false,
    "ExecuteTime": {
     "end_time": "2023-08-26T13:32:21.620384100Z",
     "start_time": "2023-08-26T13:32:21.604763500Z"
    }
   },
   "id": "a232c0a8a4debef7"
  },
  {
   "cell_type": "markdown",
   "source": [
    "Residuals are heavily skewed to the right, implying data had too much variation to be captured with simple linear regression"
   ],
   "metadata": {
    "collapsed": false
   },
   "id": "fd28b48d095fd0b9"
  },
  {
   "cell_type": "markdown",
   "source": [
    "However, right skewness shows the model more frequently predicted Braking Distance at lower value than it actually is (hence the positive residuals)"
   ],
   "metadata": {
    "collapsed": false
   },
   "id": "943417fcd80afb64"
  },
  {
   "cell_type": "markdown",
   "source": [
    "Regarding the problem of **predicting braking distance**, predicting lower value than real value has worse consequence than predicting braking distance to be larger"
   ],
   "metadata": {
    "collapsed": false
   },
   "id": "f51c72568366168c"
  },
  {
   "cell_type": "markdown",
   "source": [
    "***Based on that, model should be rejected for application***"
   ],
   "metadata": {
    "collapsed": false
   },
   "id": "c2c5b19346efa8d5"
  },
  {
   "cell_type": "code",
   "execution_count": 22,
   "outputs": [
    {
     "name": "stdout",
     "output_type": "stream",
     "text": [
      "                            OLS Regression Results                            \n",
      "==============================================================================\n",
      "Dep. Variable:                      y   R-squared:                       0.651\n",
      "Model:                            OLS   Adj. R-squared:                  0.644\n",
      "Method:                 Least Squares   F-statistic:                     89.57\n",
      "Date:                Sat, 26 Aug 2023   Prob (F-statistic):           1.49e-12\n",
      "Time:                        15:32:21   Log-Likelihood:                -206.58\n",
      "No. Observations:                  50   AIC:                             417.2\n",
      "Df Residuals:                      48   BIC:                             421.0\n",
      "Df Model:                           1                                         \n",
      "Covariance Type:            nonrobust                                         \n",
      "==============================================================================\n",
      "                 coef    std err          t      P>|t|      [0.025      0.975]\n",
      "------------------------------------------------------------------------------\n",
      "const        -17.5791      6.758     -2.601      0.012     -31.168      -3.990\n",
      "x1             3.9324      0.416      9.464      0.000       3.097       4.768\n",
      "==============================================================================\n",
      "Omnibus:                        8.975   Durbin-Watson:                   1.676\n",
      "Prob(Omnibus):                  0.011   Jarque-Bera (JB):                8.189\n",
      "Skew:                           0.885   Prob(JB):                       0.0167\n",
      "Kurtosis:                       3.893   Cond. No.                         50.7\n",
      "==============================================================================\n",
      "\n",
      "Notes:\n",
      "[1] Standard Errors assume that the covariance matrix of the errors is correctly specified.\n"
     ]
    }
   ],
   "source": [
    "print(regressor.summary())"
   ],
   "metadata": {
    "collapsed": false,
    "ExecuteTime": {
     "end_time": "2023-08-26T13:32:21.729734700Z",
     "start_time": "2023-08-26T13:32:21.620384100Z"
    }
   },
   "id": "bffef9fd013d5996"
  },
  {
   "cell_type": "markdown",
   "source": [
    "## R <sup>2</sup>"
   ],
   "metadata": {
    "collapsed": false
   },
   "id": "a77952348be1c8d6"
  },
  {
   "cell_type": "markdown",
   "source": [
    "Residual sum of squares: RSS is `sum((y_true-y_pred)^2)`"
   ],
   "metadata": {
    "collapsed": false
   },
   "id": "6a84b6f00d888db4"
  },
  {
   "cell_type": "markdown",
   "source": [
    "Total sum of squares: TSS is `sum((y_true - mean(y_true))^2)`"
   ],
   "metadata": {
    "collapsed": false
   },
   "id": "64068c9c926f475"
  },
  {
   "cell_type": "markdown",
   "source": [
    "R-squared is 1-RSS/TSS "
   ],
   "metadata": {
    "collapsed": false
   },
   "id": "d95b0311736fc23c"
  },
  {
   "cell_type": "markdown",
   "source": [
    "R squared value 1 of means that all the movements of a  dependent variable are completely explained by movements of independent variable"
   ],
   "metadata": {
    "collapsed": false
   },
   "id": "ca0014d448f7e626"
  },
  {
   "cell_type": "markdown",
   "source": [
    "***R squared value of 0.65 means that Speed variable explains about 65% of variability of Distance variable***"
   ],
   "metadata": {
    "collapsed": false
   },
   "id": "1669a959dd52203f"
  },
  {
   "cell_type": "markdown",
   "source": [
    "With multiple linear regression, having many independent variables will increase R squared regardless of performance"
   ],
   "metadata": {
    "collapsed": false
   },
   "id": "6bb770b64907c496"
  },
  {
   "cell_type": "markdown",
   "source": [
    "Adjusted R squared adds penalty to R-squared based on number of independent variables"
   ],
   "metadata": {
    "collapsed": false
   },
   "id": "e06c0324da7364e6"
  },
  {
   "cell_type": "markdown",
   "source": [
    "## F statistic"
   ],
   "metadata": {
    "collapsed": false
   },
   "id": "fc14163fc30ad034"
  },
  {
   "cell_type": "markdown",
   "source": [
    "f-statistics is a statistic used to test the significance of regression coefficients "
   ],
   "metadata": {
    "collapsed": false
   },
   "id": "7934c6c876de6b93"
  },
  {
   "cell_type": "markdown",
   "source": [
    "Residual degrees of freedom = sample_size - number_of_features - 1 which is 48"
   ],
   "metadata": {
    "collapsed": false
   },
   "id": "71bc84379d426c6d"
  },
  {
   "cell_type": "markdown",
   "source": [
    "Model degrees of freedom = number of features"
   ],
   "metadata": {
    "collapsed": false
   },
   "id": "cf943ddbcf51c048"
  },
  {
   "cell_type": "markdown",
   "source": [
    "residual standard error = RSS/(residual_degrees_of_freedom)\n",
    "Model standard error = TSS/number of features"
   ],
   "metadata": {
    "collapsed": false
   },
   "id": "9bed5573f0976428"
  },
  {
   "cell_type": "markdown",
   "source": [
    "F statistic = Model standard error/residual standard error = 89.57"
   ],
   "metadata": {
    "collapsed": false
   },
   "id": "965b29823caacecd"
  },
  {
   "cell_type": "markdown",
   "source": [
    "H0: there is no relationship between any of the variables\n",
    "H1: there is a relationship between at least one variable"
   ],
   "metadata": {
    "collapsed": false
   },
   "id": "97a64872ec958b5d"
  },
  {
   "cell_type": "markdown",
   "source": [
    "F-test p value for 89.57 is <0.00000, meaning there is little to no chance that H0 is true, and H0 is rejected"
   ],
   "metadata": {
    "collapsed": false
   },
   "id": "6635d9797a66156d"
  },
  {
   "cell_type": "markdown",
   "source": [
    "***Therefore, there is a linear relationship between AT LEAST one variable***"
   ],
   "metadata": {
    "collapsed": false
   },
   "id": "3f1baf94a4968ea0"
  },
  {
   "cell_type": "markdown",
   "source": [
    "## Intercept and coefficient t test"
   ],
   "metadata": {
    "collapsed": false
   },
   "id": "5110007817eae838"
  },
  {
   "cell_type": "markdown",
   "source": [
    "H0: there is no relationship between this variable and dependant variable\n",
    "H1: there is a relationship between this variable and dependant variable"
   ],
   "metadata": {
    "collapsed": false
   },
   "id": "5c6cc64ee83ae1df"
  },
  {
   "cell_type": "markdown",
   "source": [
    "Standard error = standard deviation of variable/sqrt(sample_size)"
   ],
   "metadata": {
    "collapsed": false
   },
   "id": "be3eb575c239257"
  },
  {
   "cell_type": "markdown",
   "source": [
    "t value = coefficient/standard error, degrees of freedom = 48, 2 tails"
   ],
   "metadata": {
    "collapsed": false
   },
   "id": "71e5f54aa4c5b8f2"
  },
  {
   "cell_type": "markdown",
   "source": [
    "p value for intercept is 0.012 which means there is 1.2% chance intercept value is random"
   ],
   "metadata": {
    "collapsed": false
   },
   "id": "695d7bcb4a0f3b4f"
  },
  {
   "cell_type": "markdown",
   "source": [
    "p value for intercept is < 0.000 which means there little to no chance Speed coefficient value is random"
   ],
   "metadata": {
    "collapsed": false
   },
   "id": "b415cc46912c8f43"
  },
  {
   "cell_type": "markdown",
   "source": [
    "Reject null hypothesis for both"
   ],
   "metadata": {
    "collapsed": false
   },
   "id": "d414911457dcdca7"
  },
  {
   "cell_type": "markdown",
   "source": [
    "***Therefore, both intercept and Speed coefficient are significant predictors of Distance dependent variable***"
   ],
   "metadata": {
    "collapsed": false
   },
   "id": "f8cfbdfe24068b64"
  },
  {
   "cell_type": "markdown",
   "source": [],
   "metadata": {
    "collapsed": false
   },
   "id": "10508738f7a7935c"
  }
 ],
 "metadata": {
  "kernelspec": {
   "display_name": "Python 3",
   "language": "python",
   "name": "python3"
  },
  "language_info": {
   "codemirror_mode": {
    "name": "ipython",
    "version": 2
   },
   "file_extension": ".py",
   "mimetype": "text/x-python",
   "name": "python",
   "nbconvert_exporter": "python",
   "pygments_lexer": "ipython2",
   "version": "2.7.6"
  }
 },
 "nbformat": 4,
 "nbformat_minor": 5
}
